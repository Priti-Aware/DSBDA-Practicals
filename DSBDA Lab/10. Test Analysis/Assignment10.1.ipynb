{
 "cells": [
  {
   "cell_type": "markdown",
   "id": "533ac220-e3bd-4153-8f7c-cc24b0699182",
   "metadata": {},
   "source": [
    "### Name: Priti Balkrushna Aware\n",
    "### Roll No: 07\n",
    "### Class: TE-B\n",
    "\n",
    "### Assignment No: 10\n",
    "### Text Analytics\n",
    "1. Extract Sample document and apply following document preprocessing methods:\n",
    "Tokenization, POS Tagging, stop words removal, Stemming and Lemmatization.\n",
    "2. Create representation of document by calculating Term Frequency and Inverse Document \n",
    "Frequency."
   ]
  },
  {
   "cell_type": "code",
   "execution_count": 1,
   "id": "00f0195a-2eb6-4e1a-87e3-7dc08e9069af",
   "metadata": {},
   "outputs": [],
   "source": [
    "import nltk"
   ]
  },
  {
   "cell_type": "code",
   "execution_count": 9,
   "id": "71dab708-6943-4f1b-b59b-89d47511fe4f",
   "metadata": {},
   "outputs": [
    {
     "name": "stdout",
     "output_type": "stream",
     "text": [
      "Tokonized Word: \n",
      "['Hi', 'I', 'am', 'Priti', 'Aware', ',', 'how', 'are', 'you', 'today', '?', 'The', 'weather', 'is', 'great', 'and', 'city', 'is', 'awsome', '.']\n",
      "Tokonized sentence: \n",
      "['Hi I am Priti Aware, how are you today?', 'The weather is great and city is awsome.']\n"
     ]
    }
   ],
   "source": [
    "# Tokonization\n",
    "\n",
    "from nltk.tokenize import word_tokenize,sent_tokenize\n",
    "text =\"\"\"Hi I am Priti Aware, how are you today? The weather is great and city is awsome.\"\"\"\n",
    "\n",
    "tokenized_words =word_tokenize(text)\n",
    "tokenized_sent = sent_tokenize(text)\n",
    "\n",
    "print(\"Tokonized Word: \")\n",
    "print(tokenized_words)\n",
    "print(\"Tokonized sentence: \")\n",
    "print(tokenized_sent)"
   ]
  },
  {
   "cell_type": "code",
   "execution_count": 17,
   "id": "95e849e3-4d1e-4f92-b864-d9fb4806c157",
   "metadata": {},
   "outputs": [
    {
     "name": "stdout",
     "output_type": "stream",
     "text": [
      "<FreqDist with 19 samples and 20 outcomes>\n"
     ]
    },
    {
     "data": {
      "image/png": "[encoded data removed]",
      "text/plain": [
       "<Figure size 640x480 with 1 Axes>"
      ]
     },
     "metadata": {},
     "output_type": "display_data"
    }
   ],
   "source": [
    "# Frequency Distribution\n",
    "from nltk.probability import FreqDist\n",
    "fdist = FreqDist(tokenized_words)\n",
    "print(fdist)\n",
    "\n",
    "fdist.most_common(2)\n",
    "\n",
    "import matplotlib.pyplot as plt\n",
    "fdist.plot(50)\n",
    "plt.show()"
   ]
  },
  {
   "cell_type": "code",
   "execution_count": 19,
   "id": "fa1d7940-9a9b-4806-97c1-980b9dec8118",
   "metadata": {},
   "outputs": [
    {
     "name": "stdout",
     "output_type": "stream",
     "text": [
      "[('Hi', 'NNP'), ('I', 'PRP'), ('am', 'VBP'), ('Priti', 'NNP'), ('Aware', 'NNP'), (',', ','), ('how', 'WRB'), ('are', 'VBP'), ('you', 'PRP'), ('today', 'NN'), ('?', '.'), ('The', 'DT'), ('weather', 'NN'), ('is', 'VBZ'), ('great', 'JJ'), ('and', 'CC'), ('city', 'NN'), ('is', 'VBZ'), ('awsome', 'JJ'), ('.', '.')]\n"
     ]
    }
   ],
   "source": [
    "# POS Tagging  find out the gramatical group of words like noun,pronouns,verb,adjectives\n",
    "from nltk import pos_tag\n",
    "pos_tags = pos_tag(tokenized_words)\n",
    "print(pos_tags)"
   ]
  },
  {
   "cell_type": "code",
   "execution_count": 23,
   "id": "fecc3a53-8c48-413a-9c3e-dbf989ae9b02",
   "metadata": {},
   "outputs": [
    {
     "name": "stdout",
     "output_type": "stream",
     "text": [
      "{'mustn', 'her', 'about', 'not', 'any', 'off', 'them', 'me', 'should', \"couldn't\", 'wouldn', 'in', 'most', 'all', \"hadn't\", 'won', \"wouldn't\", 'then', 'this', 'for', 'mightn', \"haven't\", 'has', 'theirs', 'how', 'such', 've', 'd', \"mustn't\", 'you', \"shan't\", \"you'd\", 'be', 'with', 'm', \"needn't\", \"you've\", 'more', 'do', 'needn', 'who', 'him', 'she', \"should've\", 'above', 'against', 'have', 'am', 'what', \"you're\", 'other', 'are', 'before', 'isn', 'because', 'between', 'through', 'or', 'o', \"don't\", \"shouldn't\", 'himself', \"doesn't\", 'they', 'didn', 'whom', \"won't\", 'below', 'if', 'a', 'why', 'which', 'both', 'its', 'at', 'shan', 'his', 'it', 'few', 'out', 'did', \"it's\", 'doing', \"weren't\", 'into', 'their', 'was', 'during', 'some', 'haven', 'after', 'he', 'yourselves', 'over', 'now', 'had', 'i', 'we', 'itself', 'these', 'up', \"aren't\", 'does', 'from', 't', 'your', 'don', 'here', 'were', 'aren', 'having', 'as', 's', 'too', 'hasn', 'been', 'so', 'when', 'the', 'themselves', 'couldn', 'll', 'ma', 'while', 'those', 'no', 'than', 'ours', 'by', \"isn't\", 'being', 'very', 'nor', 'under', 'is', 'shouldn', 'can', 'of', 'will', \"she's\", \"wasn't\", 'weren', 'doesn', 'ourselves', 'yourself', 'again', 'own', 'once', 'ain', 'hers', 'our', 'further', 'y', 'each', 'just', 'only', \"that'll\", \"didn't\", 'down', 'same', 'on', 'and', \"mightn't\", 'yours', 'there', 'an', \"you'll\", 'where', 'hadn', 'but', 'until', 'to', \"hasn't\", 'that', 're', 'wasn', 'myself', 'my', 'herself'}\n",
      "Tokenized sentence:  ['Hi', 'I', 'am', 'Priti', 'Aware', ',', 'how', 'are', 'you', 'today', '?', 'The', 'weather', 'is', 'great', 'and', 'city', 'is', 'awsome', '.']\n",
      "Filtered sentence:  ['Hi', 'I', 'Priti', 'Aware', ',', 'today', '?', 'The', 'weather', 'great', 'city', 'awsome', '.']\n"
     ]
    }
   ],
   "source": [
    "# Stop word removal\n",
    "from nltk.corpus import stopwords\n",
    "stop_words = set(stopwords.words('english'))\n",
    "print(stop_words)\n",
    "\n",
    "filtered_sent=[]\n",
    "for w in tokenized_words:\n",
    "    if w not in stop_words:\n",
    "        filtered_sent.append(w)\n",
    "print(\"Tokenized sentence: \",tokenized_words)\n",
    "print(\"Filtered sentence: \",filtered_sent)"
   ]
  },
  {
   "cell_type": "code",
   "execution_count": 32,
   "id": "b75aee1d-5a5b-41fe-a972-1c74a25b86a9",
   "metadata": {},
   "outputs": [
    {
     "name": "stdout",
     "output_type": "stream",
     "text": [
      "Filtered sentence:  ['Hi', 'I', 'Priti', 'Aware', ',', 'today', '?', 'The', 'weather', 'great', 'city', 'awsome', '.']\n",
      "Stemmed sentence:  ['hi', 'i', 'priti', 'awar', ',', 'today', '?', 'the', 'weather', 'great', 'citi', 'awsom', '.']\n"
     ]
    }
   ],
   "source": [
    "#Stemming is the process of reducing words to their root words\n",
    "from nltk.stem import PorterStemmer\n",
    "\n",
    "ps = PorterStemmer()\n",
    "stem_words = []\n",
    "for w in filtered_sent:\n",
    "     stem_words.append(ps.stem(w))\n",
    "print(\"Filtered sentence: \",filtered_sent)\n",
    "print(\"Stemmed sentence: \",stem_words)"
   ]
  },
  {
   "cell_type": "code",
   "execution_count": 38,
   "id": "06a26e6e-c7e0-421d-945b-f779c97e2345",
   "metadata": {},
   "outputs": [
    {
     "name": "stdout",
     "output_type": "stream",
     "text": [
      "Filtered sentence:  ['Hi', 'I', 'Priti', 'Aware', ',', 'today', '?', 'The', 'weather', 'great', 'city', 'awsome', '.']\n",
      "Lemmatized sentence:  ['Hi', 'I', 'Priti', 'Aware', ',', 'today', '?', 'The', 'weather', 'great', 'city', 'awsome', '.']\n"
     ]
    }
   ],
   "source": [
    "#Lemmatization is the process of reducing words to their base words which is grammatically correct\n",
    "from nltk.corpus import wordnet\n",
    "from nltk.stem import WordNetLemmatizer\n",
    "\n",
    "wnl =WordNetLemmatizer()\n",
    "lem_words = []\n",
    "for w in filtered_sent:\n",
    "     lem_words.append(wnl.lemmatize(w))\n",
    "print(\"Filtered sentence: \",filtered_sent)\n",
    "print(\"Lemmatized sentence: \",lem_words)"
   ]
  },
  {
   "cell_type": "code",
   "execution_count": 66,
   "id": "79836053-5c51-4577-a8ab-7f39a46a97ec",
   "metadata": {},
   "outputs": [
    {
     "name": "stdout",
     "output_type": "stream",
     "text": [
      "Accuracy: 1.0\n"
     ]
    }
   ],
   "source": [
    "import pandas as pd\n",
    "from sklearn.feature_extraction.text import TfidfVectorizer\n",
    "from sklearn.naive_bayes import MultinomialNB\n",
    "from sklearn import metrics\n",
    "\n",
    "# Sample data\n",
    "data = pd.DataFrame({\n",
    "    'Document': [1],\n",
    "    'Prase': ['I love dogs.']\n",
    "})\n",
    "\n",
    "# Create a single target label for the single sample\n",
    "data['Sentiment'] = ['Positive']\n",
    "\n",
    "# Create TF-IDF vectorizer\n",
    "tfidf_vectorizer = TfidfVectorizer()\n",
    "\n",
    "# Fit and transform the text data\n",
    "text_tf = tfidf_vectorizer.fit_transform(data['Prase'])\n",
    "\n",
    "# Train the Multinomial Naive Bayes classifier\n",
    "clf = MultinomialNB()\n",
    "clf.fit(text_tf, data['Sentiment'])\n",
    "\n",
    "# Predict the labels for the test set\n",
    "predicted = clf.predict(text_tf)\n",
    "\n",
    "# Calculate accuracy\n",
    "accuracy = metrics.accuracy_score(data['Sentiment'], predicted)\n",
    "print(\"Accuracy:\", accuracy)\n"
   ]
  }
 ],
 "metadata": {
  "kernelspec": {
   "display_name": "Python 3 (ipykernel)",
   "language": "python",
   "name": "python3"
  },
  "language_info": {
   "codemirror_mode": {
    "name": "ipython",
    "version": 3
   },
   "file_extension": ".py",
   "mimetype": "text/x-python",
   "name": "python",
   "nbconvert_exporter": "python",
   "pygments_lexer": "ipython3",
   "version": "3.12.0"
  }
 },
 "nbformat": 4,
 "nbformat_minor": 5
}
